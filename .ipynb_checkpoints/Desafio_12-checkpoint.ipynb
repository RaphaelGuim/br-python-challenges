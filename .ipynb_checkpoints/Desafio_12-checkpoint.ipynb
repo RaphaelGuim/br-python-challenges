{
 "cells": [
  {
   "cell_type": "markdown",
   "metadata": {
    "colab_type": "text",
    "id": "view-in-github"
   },
   "source": [
    "![](https://i.imgur.com/YX6UATs.png)"
   ]
  },
  {
   "cell_type": "markdown",
   "metadata": {
    "colab_type": "text",
    "id": "AYHY2YXQf6J2"
   },
   "source": [
    "### Desafio 12\n",
    "\n",
    "Escreva uma função em Python para verificar a validade de uma senha.\n",
    "\n",
    "A senha deve ter:\n",
    "\n",
    "* Pelo menos 1 letra entre [a-z] e 1 letra entre [A-Z].\n",
    "* Pelo menos 1 número entre [0-9].\n",
    "* Pelo menos 1 caractere de [$ # @].\n",
    "* Comprimento mínimo de 6 caracteres.\n",
    "* Comprimento máximo de 16 caracteres.\n",
    "\n",
    "Entradas: \"12345678\", \"J3sus0\", \"#Te5t300\", \"J*90j12374\", \"Michheeul\", \"Monk3y6\"\n",
    "\n",
    "A saída deve ser a senha e um texto indicando se a senha é válida ou inválida:\n",
    "\n",
    "```\n",
    "\"1234\" - Senha inválida\n",
    "\"Qw#1234\" - Senha válida\n",
    "```"
   ]
  },
  {
   "cell_type": "code",
   "execution_count": 84,
   "metadata": {
    "colab": {},
    "colab_type": "code",
    "id": "UGgtGYGGf6J3"
   },
   "outputs": [],
   "source": [
    "import string\n",
    "def check_password(password):\n",
    "    if len(password) < 6 or len(password)>16:\n",
    "        return f\"{password} - Senha Inválida\"   \n",
    "     \n",
    "    special = \"$#@\"\n",
    "    numbers = \"\".join([str(num)for num in list(range(10))])\n",
    "    lower = string.ascii_lowercase\n",
    "    upper = string.ascii_uppercase    \n",
    "    def check_chars(chars, password):        \n",
    "        check = [True for char in chars if char in password]        \n",
    "        if len(check)==0:\n",
    "            return False\n",
    "        return True\n",
    "    criteria = [special,numbers,lower,upper]     \n",
    "    valid = [False for chars in criteria if not check_chars(chars,password)]    \n",
    "    return f\"{password} - Senha válida\" if len(valid) == 0 else f\"{password} - Senha inválida\""
   ]
  },
  {
   "cell_type": "code",
   "execution_count": 85,
   "metadata": {},
   "outputs": [
    {
     "data": {
      "text/plain": [
       "'#Te5t300 - Senha válida'"
      ]
     },
     "execution_count": 85,
     "metadata": {},
     "output_type": "execute_result"
    }
   ],
   "source": [
    "check_password(\"#Te5t300\")"
   ]
  },
  {
   "cell_type": "code",
   "execution_count": 86,
   "metadata": {},
   "outputs": [
    {
     "data": {
      "text/plain": [
       "'#e5t300 - Senha inválida'"
      ]
     },
     "execution_count": 86,
     "metadata": {},
     "output_type": "execute_result"
    }
   ],
   "source": [
    "check_password(\"#e5t300\")"
   ]
  }
 ],
 "metadata": {
  "anaconda-cloud": {},
  "colab": {
   "include_colab_link": true,
   "name": "Desafio 12.ipynb",
   "provenance": []
  },
  "kernelspec": {
   "display_name": "Python 3",
   "language": "python",
   "name": "python3"
  },
  "language_info": {
   "codemirror_mode": {
    "name": "ipython",
    "version": 3
   },
   "file_extension": ".py",
   "mimetype": "text/x-python",
   "name": "python",
   "nbconvert_exporter": "python",
   "pygments_lexer": "ipython3",
   "version": "3.8.5"
  }
 },
 "nbformat": 4,
 "nbformat_minor": 1
}
